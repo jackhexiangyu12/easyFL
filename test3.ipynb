{
 "cells": [
  {
   "cell_type": "code",
   "execution_count": 4,
   "metadata": {
    "collapsed": true
   },
   "outputs": [
    {
     "ename": "ModuleNotFoundError",
     "evalue": "No module named 'cv2'",
     "output_type": "error",
     "traceback": [
      "\u001B[0;31m---------------------------------------------------------------------------\u001B[0m",
      "\u001B[0;31mModuleNotFoundError\u001B[0m                       Traceback (most recent call last)",
      "\u001B[0;32m<ipython-input-4-436cc40ddd3d>\u001B[0m in \u001B[0;36m<module>\u001B[0;34m\u001B[0m\n\u001B[0;32m----> 1\u001B[0;31m \u001B[0;32mimport\u001B[0m \u001B[0mcv2\u001B[0m\u001B[0;34m\u001B[0m\u001B[0;34m\u001B[0m\u001B[0m\n\u001B[0m\u001B[1;32m      2\u001B[0m \u001B[0;34m\u001B[0m\u001B[0m\n",
      "\u001B[0;31mModuleNotFoundError\u001B[0m: No module named 'cv2'"
     ]
    }
   ],
   "source": [
    "import cv2"
   ]
  },
  {
   "cell_type": "code",
   "execution_count": null,
   "metadata": {
    "pycharm": {
     "name": "#%%\n"
    }
   },
   "outputs": [],
   "source": [
    "# 查看当前挂载的数据集目录, 该目录下的变更重启环境后会自动还原\n",
    "# View dataset directory. This directory will be recovered automatically after resetting environment.\n",
    "!ls /home/aistudio/data\n",
    "!/Users/hexiangyu/Downloads/easyFL-main/venv/bin/python -m pip install --upgrade pip\n"
   ]
  },
  {
   "cell_type": "code",
   "execution_count": null,
   "metadata": {
    "pycharm": {
     "name": "#%%\n"
    }
   },
   "outputs": [],
   "source": [
    "# 查看工作区文件, 该目录下的变更将会持久保存. 请及时清理不必要的文件, 避免加载过慢.\n",
    "# View personal work directory. All changes under this directory will be kept even after reset. Please clean unnecessary files in time to speed up environment loading.\n",
    "!ls /home/aistudio/work"
   ]
  },
  {
   "cell_type": "code",
   "execution_count": null,
   "metadata": {
    "pycharm": {
     "name": "#%%\n"
    }
   },
   "outputs": [],
   "source": [
    "# 如果需要进行持久化安装, 需要使用持久化路径, 如下方代码示例:\n",
    "# If a persistence installation is required, you need to use the persistence path as the following:\n",
    "!mkdir /home/aistudio/external-libraries\n",
    "!pip install beautifulsoup4 -t /home/aistudio/external-libraries\n"
   ]
  },
  {
   "cell_type": "code",
   "execution_count": null,
   "metadata": {
    "pycharm": {
     "name": "#%%\n"
    }
   },
   "outputs": [],
   "source": [
    "# 同时添加如下代码, 这样每次环境(kernel)启动的时候只要运行下方代码即可:\n",
    "# Also add the following code, so that every time the environment (kernel) starts, just run the following code:\n",
    "import sys\n",
    "sys.path.append('/home/aistudio/external-libraries')"
   ]
  },
  {
   "cell_type": "markdown",
   "metadata": {},
   "source": [
    "请点击[此处](https://ai.baidu.com/docs#/AIStudio_Project_Notebook/a38e5576)查看本环境基本用法.  <br>\n",
    "Please click [here ](https://ai.baidu.com/docs#/AIStudio_Project_Notebook/a38e5576) for more detailed instructions."
   ]
  },
  {
   "cell_type": "code",
   "execution_count": null,
   "metadata": {
    "pycharm": {
     "name": "#%%\n"
    }
   },
   "outputs": [],
   "source": [
    "#!unzip data/data24982/VOC_MASK.zip -d masks"
   ]
  },
  {
   "cell_type": "code",
   "execution_count": null,
   "metadata": {
    "pycharm": {
     "name": "#%%\n"
    }
   },
   "outputs": [],
   "source": [
    "#!unzip DATA/DATA1/JPEGImages.zip -d new_data/test/"
   ]
  },
  {
   "cell_type": "code",
   "execution_count": null,
   "metadata": {
    "pycharm": {
     "name": "#%%\n"
    }
   },
   "outputs": [],
   "source": [
    "#!unzip data/data2019/dataset1.zip -d masks2"
   ]
  },
  {
   "cell_type": "code",
   "execution_count": null,
   "metadata": {
    "pycharm": {
     "name": "#%%\n"
    }
   },
   "outputs": [],
   "source": [
    "import shutil\n",
    "import os\n",
    "in_path = 'new_data/test/JPEGImages'\n",
    "out_path='masks/VOC_MASK/JPEGImages/'\n",
    "for filepath,dirnames,filenames in os.walk(in_path):   #在多级目录下找文件\n",
    "        for filename in filenames:\n",
    "            str1 = filename.split('.')[0]\n",
    "            str1_1 = filename.split('.')[1]\n",
    "            if str1_1 == \"jpg\" or str1_1 == \"jpeg\" or str1_1 == \"JPG\" or str1_1 == \"JPEG\":\n",
    "                shutil.copy(filepath + \"/\" + filename, out_path) #复制文件\n",
    "                #shutil.move() 移动文件\n",
    "            else:\n",
    "                continue"
   ]
  },
  {
   "cell_type": "code",
   "execution_count": null,
   "metadata": {
    "pycharm": {
     "name": "#%%\n"
    }
   },
   "outputs": [],
   "source": [
    "work_dir = 'masks2/dataset1/dataset1/Annotations'\n",
    "new_dir='masks/VOC_MASK/Annotations/'\n",
    "# masks/VOC_MASK/JPEGImages/1_Handshaking_Handshaking_1_341.jpg\n",
    "for parent, dirnames, filenames in os.walk(work_dir,  followlinks=True):\n",
    "        for filename in filenames:\n",
    "            file_path = os.path.join(parent, filename)\n",
    "            file = open(file_path,\"r+\",encoding='UTF-8')\n",
    "            newFile = open(new_dir+filename,\"w\",encoding='UTF-8')\n",
    "            for line in file.readlines():\n",
    "                if(\"FIRC\" in line):\n",
    "                    line = line.replace(\"FIRC\",\"Unknown\")\n",
    "                if(\"person\" in line):\n",
    "                    line = line.replace(\"person\",\"not_standard\")\n",
    "                newFile.writelines(line)\n",
    "            print (filename)\n",
    "            newFile.close()\n",
    "            file.close()\n"
   ]
  },
  {
   "cell_type": "code",
   "execution_count": null,
   "metadata": {
    "pycharm": {
     "name": "#%%\n"
    }
   },
   "outputs": [],
   "source": [
    "import xml.etree.cElementTree as ET\n",
    "import os\n",
    "import cv2\n",
    "import numpy as np\n",
    "import matplotlib.pyplot as plt\n",
    "import matplotlib.patches as patches\n",
    "import math\n",
    "import paddle.fluid as fluid\n",
    "import myyolo3net as mynet\n",
    "import time\n",
    "import random\n",
    "\n"
   ]
  },
  {
   "cell_type": "code",
   "execution_count": null,
   "metadata": {
    "pycharm": {
     "name": "#%%\n"
    }
   },
   "outputs": [],
   "source": [
    "xmlDir = r\"masks/VOC_MASK/Annotations\"\n",
    "imgDir = r\"masks/VOC_MASK/JPEGImages\"\n",
    "xmlList = [os.path.join(xmlDir, f) for f in os.listdir(xmlDir)]\n",
    "labelDic = {'face': 0, 'face_mask': 1}\n",
    "BATCH_SIZE = 16\n",
    "imgSize = (448,448)  # w,h\n",
    "iouLim = 0.1\n",
    "# anchorBox = [(40, 160), (80, 210), (80, 400)]  # 前宽后高\n",
    "anchorBox = [(40, 40), (120, 120), (220, 220)]  # 前宽后高\n",
    "colNum = imgSize[1] // 32\n",
    "rowNum = imgSize[0] // 32\n",
    "anchorNum = len(anchorBox)\n",
    "classNum = len(labelDic)\n",
    "outDim = (5 + classNum) * anchorNum\n",
    "learningRate = 1e-4\n",
    "testSize=96\n",
    "random.shuffle(xmlList)\n",
    "xmlListTest=xmlList[-testSize:]\n",
    "xmlList=xmlList[0:-testSize]\n",
    "\n",
    "\n",
    "# 从xml读图片，标签\n",
    "def loadXmlandImg(xmlDir, loadImg=False, imgDir=imgDir, resize=False):\n",
    "    # 输出的size是一个元组（w，h），theObjs为列表，每一位是一个字典，键name->标签，键box->[xxyy]\n",
    "    xml = ET.parse(xmlDir)\n",
    "    size = (\n",
    "        int(xml.find(\"size\").find(\"width\").text),\n",
    "        int(xml.find(\"size\").find(\"height\").text)\n",
    "    )\n",
    "\n",
    "    objs = xml.findall(\"object\")\n",
    "    theObjs = []\n",
    "    # 遍历每个物品框生成一堆字典\n",
    "    for obj in objs:\n",
    "        bndbox = obj.find(\"bndbox\")\n",
    "        boxXXYY = [int(bndbox.find(\"xmin\").text), int(bndbox.find(\"xmax\").text),\n",
    "                   int(bndbox.find(\"ymin\").text), int(bndbox.find(\"ymax\").text)]\n",
    "        if resize:\n",
    "            boxXXYY[0] *= resize[0] / size[0]\n",
    "            boxXXYY[1] *= resize[0] / size[0]\n",
    "            boxXXYY[2] *= resize[1] / size[1]\n",
    "            boxXXYY[3] *= resize[1] / size[1]\n",
    "        theObjs.append({\n",
    "            \"label\": labelDic[obj.find(\"name\").text],\n",
    "            \"box\": boxXXYY\n",
    "        })\n",
    "    # 选择是不是加载图片\n",
    "    if loadImg:\n",
    "        fileName = xml.find(\"filename\").text\n",
    "        fileName = os.path.join(imgDir, fileName)\n",
    "        img = cv2.imread(fileName)\n",
    "        if resize:\n",
    "            img = cv2.resize(img, resize)\n",
    "        img = (cv2.cvtColor(img, cv2.COLOR_BGR2RGB).astype(\"float32\") / 255.0).transpose(2, 0, 1)\n",
    "        return size, theObjs, img\n",
    "    else:\n",
    "        return size, theObjs\n",
    "\n",
    "\n",
    "\n",
    "\n",
    "# 构造yolo3真实框，输入真实框和框数上限，输出一个（框数，4）的xywh数组\n",
    "def yolo3GTBoxLabel(gtBoxes, resize,boxNum=50):\n",
    "    # gtBoxes，一个字典，包含label:01234和box:[x,x,y,y]两个键值对\n",
    "    # shape = d['shapes']\n",
    "\n",
    "    thisLabel = [0 for i in range(boxNum)]\n",
    "    gtBoxArr = [[0, 0, 0, 0] for i in range(boxNum)]\n",
    "\n",
    "    # 遍历这个图的每一个真实框\n",
    "    for i in range(min(len(gtBoxes),boxNum)):\n",
    "        box = gtBoxes[i]\n",
    "        points = box['box']\n",
    "        x1 = points[0]\n",
    "        x2 = points[1]\n",
    "        y1 = points[2]\n",
    "        y2 = points[3]\n",
    "        label = box['label']\n",
    "        gtx = (x1 + x2) / 2\n",
    "        gty = (y1 + y2) / 2\n",
    "        gtw = x2 - x1\n",
    "        gth = y2 - y1\n",
    "        gtBoxArr[i] = [gtx/resize[0], gty/resize[1], gtw/resize[0], gth/resize[1]]\n",
    "        thisLabel[i] = label\n",
    "    # print(gtBoxArr,thisLabel)\n",
    "    return np.array(gtBoxArr, dtype=\"float32\"), np.array(thisLabel, dtype=\"int32\")\n",
    "\n",
    "\n",
    "# s, o, i = loadXmlandImg(os.path.join(xmlDir, xmlList[0]), True, imgDir)\n",
    "# print(i.shape)\n",
    "\n",
    "\n",
    "# 定义画矩形框的程序\n",
    "def draw_rectangle(bbox, currentAxis=None, edgecolor='k', facecolor='y', fill=False, linestyle='-'):\n",
    "    # currentAxis，坐标轴，通过plt.gca()获取\n",
    "    # bbox，边界框，包含四个数值的list， [x1, x2, y1, y2]\n",
    "    # edgecolor，边框线条颜色\n",
    "    # facecolor，填充颜色\n",
    "    # fill, 是否填充\n",
    "    # linestype，边框线型\n",
    "    # patches.Rectangle需要传入左上角坐标、矩形区域的宽度、高度等参数\n",
    "    if not currentAxis:\n",
    "        currentAxis = plt.gca()\n",
    "    rect = patches.Rectangle((bbox[0], bbox[2]), bbox[1] - bbox[0] + 1, bbox[3] - bbox[2] + 1, linewidth=1,\n",
    "                             edgecolor=edgecolor, facecolor=facecolor, fill=fill, linestyle=linestyle)\n",
    "    currentAxis.add_patch(rect)\n",
    "\n",
    "def dataReader2(xmllist, img_size=imgSize):\n",
    "    labels = []\n",
    "    gtboxes = []\n",
    "    imgs = []\n",
    "    for i in xmllist:\n",
    "        size, obj, img = loadXmlandImg(i, True, resize=img_size)\n",
    "        imgs.append(img)\n",
    "        # print(obj)\n",
    "        box, label = yolo3GTBoxLabel(obj, resize=imgSize)\n",
    "        labels.append(label)\n",
    "        gtboxes.append(box)\n",
    "    return np.array(gtboxes, dtype=\"float32\"), np.array(labels, dtype=\"int32\"), np.array(imgs, dtype=\"float32\")\n",
    "\n",
    "\n",
    "# 构建网络\n",
    "\n",
    "maxGTbox = 50\n",
    "inputImg = fluid.layers.data(\"image\", shape=[None, 3, imgSize[1], imgSize[0]], dtype=\"float32\")\n",
    "# inputLabel = fluid.layers.data(\"label\", shape=[None, anchorNum, 5 + classNum, rowNum, colNum], dtype=\"float32\")\n",
    "inputLabel = fluid.layers.data(\"label\", shape=[None, maxGTbox], dtype=\"int32\")\n",
    "inputGtbox = fluid.layers.data(\"gtbox\", shape=[None, maxGTbox, 4], dtype=\"float32\")\n",
    "(C0, C1, C2) = mynet.Darknet53(inputImg)  # 经过骨干网络提取特征\n",
    "(r0, t0, P0) = mynet.yoloMain(C0, outDim)  # 得到yolo3的0级输出\n",
    "r0_resize = fluid.layers.resize_nearest(input=r0, scale=2)\n",
    "C1_New = fluid.layers.concat(input=[r0_resize, C1], axis=1)  # 和C1拼起来\n",
    "(r1, t1, P1) = mynet.yoloMain(C1_New, outDim)  # yolo3的1级输出\n",
    "r1_resize = fluid.layers.resize_nearest(input=r1, scale=2)\n",
    "C1_New = fluid.layers.concat(input=[r1_resize, C2], axis=1)    # 和二级拼起来\n",
    "(r2, t2, P2) = mynet.yoloMain(C1_New, outDim)\n",
    "print(P0, P1, P2)\n",
    "\n",
    "# lossAvg = mynet.yolo3LossNet(P0, inputLabel)\n",
    "lossAll0 = fluid.layers.yolov3_loss(\n",
    "    x=P0,\n",
    "    gt_box=inputGtbox,\n",
    "    gt_label=inputLabel,\n",
    "    anchors=[7, 10, 12, 22, 24, 17,22, 45, 46, 33, 43, 88,85, 66, 115, 146, 275, 240],\n",
    "    anchor_mask=[6,7,8],\n",
    "    class_num=classNum,\n",
    "    ignore_thresh=iouLim,\n",
    "    downsample_ratio=32\n",
    ")\n",
    "lossAll1 = fluid.layers.yolov3_loss(\n",
    "    x=P1,\n",
    "    gt_box=inputGtbox,\n",
    "    gt_label=inputLabel,\n",
    "    anchors=[7, 10, 12, 22, 24, 17,22, 45, 46, 33, 43, 88,85, 66, 115, 146, 275, 240],\n",
    "    anchor_mask=[3,4,5],\n",
    "    class_num=classNum,\n",
    "    ignore_thresh=iouLim,\n",
    "    downsample_ratio=16\n",
    ")\n",
    "lossAll2 = fluid.layers.yolov3_loss(\n",
    "    x=P2,\n",
    "    gt_box=inputGtbox,\n",
    "    gt_label=inputLabel,\n",
    "    anchors=[7, 10, 12, 22, 24, 17,22, 45, 46, 33, 43, 88,85, 66, 115, 146, 275, 240],\n",
    "    anchor_mask=[0, 1, 2],\n",
    "    class_num=classNum,\n",
    "    ignore_thresh=iouLim,\n",
    "    downsample_ratio=8\n",
    ")\n",
    "lossAll = lossAll0 + lossAll1 + lossAll2\n",
    "lossAvg = fluid.layers.mean(lossAll)\n",
    "print(lossAvg)\n",
    "testProgram = fluid.default_main_program().clone(for_test=True)\n",
    "opt = fluid.optimizer.Momentum(\n",
    "    learning_rate=fluid.layers.piecewise_decay(boundaries=[800,1500,4000], values=[1e-3,3e-4,1e-4,5e-5]),\n",
    "    # learning_rate=1e-4,\n",
    "    momentum=0.9,\n",
    "    # regularization=fluid.regularizer.L2Decay(0.0005),\n",
    ")\n",
    "a=opt.minimize(lossAvg)\n",
    "# 开始训练"
   ]
  },
  {
   "cell_type": "code",
   "execution_count": null,
   "metadata": {
    "pycharm": {
     "name": "#%%\n"
    }
   },
   "outputs": [],
   "source": [
    "print(\"开始编译网络\")\n",
    "initPro = fluid.default_startup_program()\n",
    "mainProg = fluid.default_main_program()\n",
    "\n",
    "# place = fluid.CPUPlace()\n",
    "place = fluid.CUDAPlace(0)\n",
    "exe = fluid.Executor(place)\n",
    "exe.run(program=initPro)\n",
    "\n",
    "def testModel():\n",
    "    miniBatch=4\n",
    "    begin=0\n",
    "    end=miniBatch\n",
    "    lossAll=0.0\n",
    "    while end<=testSize:\n",
    "        b, l, ii = dataReader2(xmlListTest[begin:end])\n",
    "        lo=exe.run(testProgram,\n",
    "        feed={\n",
    "                    'image': ii,\n",
    "                    \"label\": l,\n",
    "                    'gtbox': b\n",
    "        },\n",
    "        fetch_list=[lossAvg]\n",
    "        )\n",
    "        lossAll+=lo[0]\n",
    "        print(lo[0])\n",
    "        begin+=miniBatch\n",
    "        end+=miniBatch\n",
    "    print(\"损失：\",lossAll/(testSize//miniBatch))\n",
    "\n"
   ]
  },
  {
   "cell_type": "code",
   "execution_count": null,
   "metadata": {
    "pycharm": {
     "name": "#%%\n"
    }
   },
   "outputs": [],
   "source": [
    "!cd\n",
    "fluid.io.load_persistables(exe,'./model', mainProg)\n",
    "\n",
    "print(\"开始训练\")\n",
    "dataNum = len(xmlList)\n",
    "for i in range(5):\n",
    "    testModel()\n",
    "    random.shuffle(xmlList)\n",
    "    tic = time.time()\n",
    "    begin = 0\n",
    "    end = BATCH_SIZE\n",
    "    while end <= dataNum:\n",
    "        b, l, ii = dataReader2(xmlList[begin:end])\n",
    "        # print(b.shape, l.shape, i.shape)\n",
    "        for j in range(1):\n",
    "            la = exe.run(\n",
    "                program=mainProg,\n",
    "                feed={\n",
    "                    'image': ii,\n",
    "                    \"label\": l,\n",
    "                    'gtbox': b\n",
    "                },\n",
    "                fetch_list=[lossAvg]\n",
    "            )\n",
    "        # print(la)\n",
    "        if begin%1024==0:\n",
    "            print(i,begin,la, time.time() - tic)\n",
    "        begin += BATCH_SIZE\n",
    "        end += BATCH_SIZE\n",
    "\n",
    "# b, l, i = dataReader2(xmlList[0:1])\n",
    "\n",
    "# print(b.shape, l.shape, i.shape)"
   ]
  },
  {
   "cell_type": "code",
   "execution_count": null,
   "metadata": {
    "pycharm": {
     "name": "#%%\n"
    }
   },
   "outputs": [],
   "source": [
    "# 保存模型\n",
    "fluid.io.save_persistables(exe, './model', fluid.default_main_program())"
   ]
  },
  {
   "cell_type": "code",
   "execution_count": null,
   "metadata": {
    "pycharm": {
     "name": "#%%\n"
    }
   },
   "outputs": [],
   "source": [
    "# 保存预测模型\n",
    "fluid.io.save_inference_model(\"./refMaskModel/\",\n",
    "                              feeded_var_names=['image'],\n",
    "                              target_vars=[P0,P1,P2],\n",
    "                              executor=exe)"
   ]
  },
  {
   "cell_type": "code",
   "execution_count": null,
   "metadata": {
    "pycharm": {
     "name": "#%%\n"
    }
   },
   "outputs": [],
   "source": [
    "# 打包下载\n",
    "!zip -r refMaskModel6.zip refMaskModel"
   ]
  },
  {
   "cell_type": "code",
   "execution_count": null,
   "metadata": {
    "pycharm": {
     "name": "#%%\n"
    }
   },
   "outputs": [],
   "source": [
    "# 预测模型\n",
    "import cv2\n",
    "import numpy as np\n",
    "import paddle.fluid as fluid\n",
    "import time\n",
    "import matplotlib.pyplot as plt\n",
    "import math\n",
    "import matplotlib.patches as patches\n",
    "\n",
    "print(\"开始运行\")\n",
    "\n",
    "fluid.Scope()\n",
    "\n",
    "## 加载所有文件的路径，每个文件在数组中有一位\n",
    "modelPath = r'refMaskModel'\n",
    "dataMap = {'face': 0, 'face_mask': 1,'not_standard':2}\n",
    "classNum = 3\n",
    "limObj = 0.8\n",
    "iouLim=0.1\n",
    "\n",
    "## 加载模型\n",
    "place = fluid.CUDAPlace(0)\n",
    "mainProg = fluid.default_main_program()\n",
    "exe = fluid.Executor(place)\n",
    "\n",
    "[inference_program,  # 预测用的program\n",
    " feed_target_names,  # 一个str列表，它包含需要在预测 Program 中提供数据的变量的名称。\n",
    " fetch_targets] = fluid.io.load_inference_model(\n",
    "    modelPath,\n",
    "    exe\n",
    ")\n",
    "\n",
    "\n",
    "# 测试模型\n",
    "\n",
    "def loadImg(path):\n",
    "    img = cv2.imread(path)\n",
    "    # print(img)\n",
    "    img = cv2.resize(img, (448, 448), interpolation=cv2.INTER_AREA)\n",
    "    img = (cv2.cvtColor(img, cv2.COLOR_BGR2RGB).astype(\"float32\") / 255.0).transpose(2, 0, 1)\n",
    "    return np.array([img], dtype=\"float32\")\n",
    "\n",
    "\n",
    "def sigma(x):\n",
    "    return 1 / (1 + math.exp(-x))\n",
    "\n",
    "\n",
    "def draw_rectangle(bbox, currentAxis=None, edgecolor='k', facecolor='y', fill=False, linestyle='-'):\n",
    "    # currentAxis，坐标轴，通过plt.gca()获取\n",
    "    # bbox，边界框，包含四个数值的list， [x1, x2, y1, y2]\n",
    "    # edgecolor，边框线条颜色\n",
    "    # facecolor，填充颜色\n",
    "    # fill, 是否填充\n",
    "    # linestype，边框线型\n",
    "    # patches.Rectangle需要传入左上角坐标、矩形区域的宽度、高度等参数\n",
    "    if not currentAxis:\n",
    "        currentAxis = plt.gca()\n",
    "    rect = patches.Rectangle((bbox[0], bbox[2]), bbox[1] - bbox[0] + 1, bbox[3] - bbox[2] + 1, linewidth=1,\n",
    "                             edgecolor=edgecolor, facecolor=facecolor, fill=fill, linestyle=linestyle)\n",
    "    currentAxis.add_patch(rect)\n",
    "\n",
    "\n",
    "def getIOU(xxyy1, xxyy2):\n",
    "    x2 = min(xxyy1[1], xxyy2[1])\n",
    "    x1 = max(xxyy1[0], xxyy2[0])\n",
    "    y1 = max(xxyy1[2], xxyy2[2])\n",
    "    y2 = min(xxyy1[3], xxyy2[3])\n",
    "\n",
    "    if (x2 < x1) or (y1 > y2):\n",
    "        return 0.0\n",
    "    else:\n",
    "        i = (x2 - x1) * (y2 - y1)\n",
    "        s1 = (xxyy1[1] - xxyy1[0]) * (xxyy1[3] - xxyy1[2])\n",
    "        s2 = (xxyy2[1] - xxyy2[0]) * (xxyy2[3] - xxyy2[2])\n",
    "        return i / (s1 + s2 - i)\n",
    "\n",
    "\n",
    "def refImg(imgPath):\n",
    "    # maybeBox = [[] for i in range(classNum)]\n",
    "    maybeBox = []\n",
    "    img = loadImg(imgPath)\n",
    "\n",
    "    def logBox(pred, stride, archors):\n",
    "        pred0_ = pred[0]\n",
    "        archorNum = len(archors) // 2\n",
    "        for i in range(pred0_.shape[1]):\n",
    "            for j in range(pred0_.shape[2]):\n",
    "                for p in range(archorNum):\n",
    "                    if sigma(pred0_[4 + p * (5 + classNum), i, j]) > limObj:\n",
    "                        res = pred0_[p * (5 + classNum):(p + 1) * (5 + classNum), i, j]\n",
    "                        x = stride * (j + sigma(res[0]))\n",
    "                        y = stride * (i + sigma(res[1]))\n",
    "                        w = archors[p * 2] * math.exp(res[2])\n",
    "                        h = archors[p * 2 + 1] * math.exp(res[3])\n",
    "                        # max_ = (-1000)\n",
    "                        # maxClass = -1\n",
    "                        # 比较是脸还是口罩\n",
    "                        if res[5] > res[6]:\n",
    "                            maxClass = 0\n",
    "                        else:\n",
    "                            maxClass = 1\n",
    "\n",
    "                        # for c in range(5, 5 + classNum):\n",
    "                        #     if res[c] > max_:\n",
    "                        #         max_ = res[c]\n",
    "                        #         maxClass = c - 5\n",
    "\n",
    "                        maybeBox.append({\n",
    "                            \"bbox\": [x - w / 2, x + w / 2, y - h / 2, y + h / 2],\n",
    "                            \"obj\": sigma(res[5 + maxClass]),\n",
    "                            \"state\": 0,\n",
    "                            \"class\": maxClass,\n",
    "                            \"stride\": stride\n",
    "                        })\n",
    "\n",
    "    tic = time.time()\n",
    "    pred0, pred1, pred2 = exe.run(\n",
    "        program=inference_program,\n",
    "        feed={feed_target_names[0]: img},\n",
    "        fetch_list=fetch_targets\n",
    "    )\n",
    "    print(time.time() - tic)\n",
    "    logBox(pred0, stride=32, archors=[85, 66, 115, 146, 275, 240])\n",
    "    logBox(pred1, stride=16, archors=[22, 45, 46, 33, 43, 88])\n",
    "    logBox(pred2, stride=8, archors=[7, 10, 12, 22, 24, 17])\n",
    "    # print(maybeBox)\n",
    "    plt.imshow(img[0].transpose(1, 2, 0))\n",
    "    # goodBox0 = [[] for i in range(classNum)]\n",
    "    # 去除多余的框\n",
    "    # for i in range(classNum):\n",
    "    while True:\n",
    "        finish = True\n",
    "        max_ = -1\n",
    "        maxBox = 0\n",
    "        for box in maybeBox:\n",
    "            if box[\"state\"] == 0 and box[\"obj\"] > max_:\n",
    "                finish = False\n",
    "                max_ = box[\"obj\"]\n",
    "                maxBox = box\n",
    "        if not finish:\n",
    "            maxBox[\"state\"] = 2\n",
    "        for box in maybeBox:\n",
    "            if box[\"state\"] == 0 and getIOU(box[\"bbox\"], maxBox[\"bbox\"]) > 0.1:\n",
    "                box[\"state\"] = 1\n",
    "        if finish:\n",
    "            break\n",
    "\n",
    "    # print(\"face\")\n",
    "    for box in maybeBox:\n",
    "        if box[\"state\"] == 2:\n",
    "            print(box)\n",
    "            if box[\"class\"] == 0:\n",
    "                draw_rectangle(box[\"bbox\"], edgecolor='r')\n",
    "            else:\n",
    "                draw_rectangle(box[\"bbox\"])\n",
    "\n",
    "    # print(\"facemask\")\n",
    "    # for box in maybeBox[1]:\n",
    "    #     if box[\"state\"] == 2:\n",
    "    #         print(box)\n",
    "    #         draw_rectangle(box[\"bbox\"])\n",
    "\n",
    "    plt.show()\n",
    "\n",
    "\n",
    "refImg(r\"masks/VOC_MASK/JPEGImages/1_Handshaking_Handshaking_1_341.jpg\")\n"
   ]
  },
  {
   "cell_type": "code",
   "execution_count": null,
   "metadata": {
    "pycharm": {
     "name": "#%%\n"
    }
   },
   "outputs": [],
   "source": [
    "# for i in range(1,15):\n",
    "#     refImg(\"mymask/%d.jpg\"%i)"
   ]
  }
 ],
 "metadata": {
  "kernelspec": {
   "display_name": "Python 3",
   "language": "python",
   "name": "python3"
  },
  "language_info": {
   "codemirror_mode": {
    "name": "ipython",
    "version": 3
   },
   "file_extension": ".py",
   "mimetype": "text/x-python",
   "name": "python",
   "nbconvert_exporter": "python",
   "pygments_lexer": "ipython3",
   "version": "3.6.8"
  }
 },
 "nbformat": 4,
 "nbformat_minor": 1
}